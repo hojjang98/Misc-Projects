{
 "cells": [
  {
   "cell_type": "markdown",
   "id": "929f9003",
   "metadata": {},
   "source": [
    "## 1. Load & Preprocess Data: Geocoding and Distance Analysis\n"
   ]
  },
  {
   "cell_type": "code",
   "execution_count": 9,
   "id": "529693f3",
   "metadata": {},
   "outputs": [
    {
     "name": "stdout",
     "output_type": "stream",
     "text": [
      "✅ Average distance between zones: 1672.94 meters\n"
     ]
    }
   ],
   "source": [
    "# ============================================================\n",
    "# 1. Load and preprocess smoking zone data (Yongsan-gu)\n",
    "#    - Performs geocoding (if needed)\n",
    "#    - Computes average distance between zones\n",
    "# ============================================================\n",
    "\n",
    "import pandas as pd\n",
    "from geopy.geocoders import Nominatim\n",
    "from geopy.distance import geodesic\n",
    "import time\n",
    "import os\n",
    "\n",
    "# === Path Setup ===\n",
    "base_dir = r\"C:\\Users\\ghwns\\HJ_git\\Misc-Projects\\seoul-smoking-gis\"\n",
    "file_path = os.path.join(base_dir, \"Data\", \"서울특별시 용산구_흡연구역_20240719.csv\")\n",
    "output_path = os.path.join(base_dir, \"Output\", \"yongsan_smoking_zones_map.html\")\n",
    "\n",
    "# Ensure output folder exists\n",
    "os.makedirs(os.path.dirname(output_path), exist_ok=True)\n",
    "\n",
    "# Load dataset\n",
    "df = pd.read_csv(file_path, encoding='cp949')\n",
    "\n",
    "# Geocoding if lat/lon not present\n",
    "if '위도' not in df.columns or '경도' not in df.columns:\n",
    "    geolocator = Nominatim(user_agent=\"smoking_zone_mapper\")\n",
    "    latitudes, longitudes = [], []\n",
    "\n",
    "    for address in df['소재지도로명주소']:  # Modify if needed\n",
    "        try:\n",
    "            location = geolocator.geocode(f\"용산구 {address}\")\n",
    "            if location:\n",
    "                latitudes.append(location.latitude)\n",
    "                longitudes.append(location.longitude)\n",
    "            else:\n",
    "                latitudes.append(None)\n",
    "                longitudes.append(None)\n",
    "        except:\n",
    "            latitudes.append(None)\n",
    "            longitudes.append(None)\n",
    "        time.sleep(1)  # API rate limit\n",
    "\n",
    "    df['latitude'] = latitudes\n",
    "    df['longitude'] = longitudes\n",
    "else:\n",
    "    df = df.rename(columns={'위도': 'latitude', '경도': 'longitude'})\n",
    "\n",
    "# Clean coordinates\n",
    "df = df.dropna(subset=['latitude', 'longitude'])\n",
    "df['latitude'] = df['latitude'].astype(float)\n",
    "df['longitude'] = df['longitude'].astype(float)\n",
    "\n",
    "# Pairwise distance calculation\n",
    "distances = []\n",
    "coords = df[['latitude', 'longitude']].values\n",
    "\n",
    "for i in range(len(coords)):\n",
    "    for j in range(i + 1, len(coords)):\n",
    "        d = geodesic(coords[i], coords[j]).meters\n",
    "        distances.append(d)\n",
    "\n",
    "if distances:\n",
    "    avg_dist = sum(distances) / len(distances)\n",
    "    print(f\"✅ Average distance between zones: {avg_dist:.2f} meters\")\n"
   ]
  },
  {
   "cell_type": "markdown",
   "id": "ed8f4449",
   "metadata": {},
   "source": [
    "## 2. Visualize Smoking Zones on Interactive Map & Save as HTML\n"
   ]
  },
  {
   "cell_type": "code",
   "execution_count": 11,
   "id": "ed7fcf4f",
   "metadata": {},
   "outputs": [
    {
     "name": "stdout",
     "output_type": "stream",
     "text": [
      "✅ Map saved to: C:\\Users\\ghwns\\HJ_git\\Misc-Projects\\seoul-smoking-gis\\Output\\yongsan_smoking_zones_map.html\n"
     ]
    },
    {
     "data": {
      "text/plain": [
       "True"
      ]
     },
     "execution_count": 11,
     "metadata": {},
     "output_type": "execute_result"
    }
   ],
   "source": [
    "# ============================================================\n",
    "# 2. Visualize Yongsan-gu smoking zones with Folium\n",
    "#    - Interactive map rendering\n",
    "#    - Saved as HTML and opened automatically\n",
    "# ============================================================\n",
    "\n",
    "import folium\n",
    "import webbrowser\n",
    "\n",
    "# Create folium map\n",
    "map_center = [df['latitude'].mean(), df['longitude'].mean()]\n",
    "m = folium.Map(location=map_center, zoom_start=14)\n",
    "\n",
    "# Add markers\n",
    "for _, row in df.iterrows():\n",
    "    name = row.get('시설명', 'Smoking Zone')\n",
    "    folium.Marker(\n",
    "        location=[row['latitude'], row['longitude']],\n",
    "        popup=name,\n",
    "        icon=folium.Icon(color='green', icon='smoking', prefix='fa')\n",
    "    ).add_to(m)\n",
    "\n",
    "# Show in notebook\n",
    "m\n",
    "\n",
    "# Save to HTML\n",
    "m.save(output_path)\n",
    "print(f\"✅ Map saved to: {output_path}\")\n",
    "\n",
    "# Open in default browser\n",
    "webbrowser.open(output_path)"
   ]
  }
 ],
 "metadata": {
  "kernelspec": {
   "display_name": "Python 3 (ipykernel)",
   "language": "python",
   "name": "python3"
  },
  "language_info": {
   "codemirror_mode": {
    "name": "ipython",
    "version": 3
   },
   "file_extension": ".py",
   "mimetype": "text/x-python",
   "name": "python",
   "nbconvert_exporter": "python",
   "pygments_lexer": "ipython3",
   "version": "3.11.4"
  }
 },
 "nbformat": 4,
 "nbformat_minor": 5
}
