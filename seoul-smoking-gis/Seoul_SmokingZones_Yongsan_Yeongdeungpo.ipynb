{
 "cells": [
  {
   "cell_type": "markdown",
   "id": "6c38ca7e",
   "metadata": {},
   "source": [
    "# Import Libraries"
   ]
  },
  {
   "cell_type": "code",
   "execution_count": 8,
   "id": "ed7fcf4f",
   "metadata": {},
   "outputs": [],
   "source": [
    "import pandas as pd\n",
    "from geopy.distance import geodesic\n",
    "import folium\n",
    "import os"
   ]
  },
  {
   "cell_type": "markdown",
   "id": "de0adb88",
   "metadata": {},
   "source": [
    "# Configuration"
   ]
  },
  {
   "cell_type": "code",
   "execution_count": 9,
   "id": "4eeb0dd8",
   "metadata": {},
   "outputs": [],
   "source": [
    "INPUT_PATH = \"./Data/smoking_zone.csv\"\n",
    "OUTPUT_PATH = \"./Output/merged_smoking_zones_map.html\"\n",
    "\n",
    "DISTRICT_CENTERS = {\n",
    "    '용산구': (37.5325, 126.9900),\n",
    "    '영등포구': (37.5219, 126.9244),\n",
    "}\n",
    "\n",
    "DISTRICT_COLORS = {\n",
    "    '용산구': 'green',\n",
    "    '영등포구': 'blue',\n",
    "}"
   ]
  },
  {
   "cell_type": "markdown",
   "id": "3492c90a",
   "metadata": {},
   "source": [
    "# Helper Functions"
   ]
  },
  {
   "cell_type": "code",
   "execution_count": 10,
   "id": "93fdf695",
   "metadata": {},
   "outputs": [],
   "source": [
    "def remove_outliers(df, centers, max_distance=5000):\n",
    "    \"\"\"Remove points too far from district centers.\"\"\"\n",
    "    def is_far(row):\n",
    "        gu = row.get('자치구')\n",
    "        center = centers.get(gu)\n",
    "        if not center:\n",
    "            return False\n",
    "        return geodesic((row['latitude'], row['longitude']), center).meters > max_distance\n",
    "    \n",
    "    df['is_outlier'] = df.apply(is_far, axis=1)\n",
    "    return df[~df['is_outlier']].drop(columns='is_outlier')\n",
    "\n",
    "\n",
    "def compute_avg_nearest_distances(df):\n",
    "    \"\"\"Average nearest neighbor distance per district.\"\"\"\n",
    "    results = {}\n",
    "    for gu, group in df.groupby(\"자치구\"):\n",
    "        coords = group[['latitude', 'longitude']].values\n",
    "        if len(coords) < 2:\n",
    "            print(f\"{gu}: not enough data (less than 2 points)\")\n",
    "            continue\n",
    "        \n",
    "        nearest_dists = []\n",
    "        for i in range(len(coords)):\n",
    "            dists = [geodesic(coords[i], coords[j]).meters\n",
    "                     for j in range(len(coords)) if i != j]\n",
    "            nearest_dists.append(min(dists))\n",
    "        \n",
    "        avg_dist = sum(nearest_dists) / len(nearest_dists)\n",
    "        results[gu] = avg_dist\n",
    "        print(f\"{gu}: average nearest distance = {avg_dist:.2f} m\")\n",
    "    return results\n",
    "\n",
    "\n",
    "def plot_folium_map(df, color_map, output_path):\n",
    "    \"\"\"Plot interactive map with Folium.\"\"\"\n",
    "    center = [df['latitude'].mean(), df['longitude'].mean()]\n",
    "    m = folium.Map(location=center, zoom_start=13)\n",
    "\n",
    "    for _, row in df.iterrows():\n",
    "        gu = row['자치구']\n",
    "        name = row.get('설치 위치', 'Smoking Zone')\n",
    "        lat, lon = row['latitude'], row['longitude']\n",
    "        color = color_map.get(gu, 'gray')\n",
    "\n",
    "        folium.Marker(\n",
    "            location=[lat, lon],\n",
    "            popup=f\"{gu} - {name}\",\n",
    "            tooltip=name,\n",
    "            icon=folium.Icon(color=color, icon='info-sign')\n",
    "        ).add_to(m)\n",
    "\n",
    "    os.makedirs(os.path.dirname(output_path), exist_ok=True)\n",
    "    m.save(output_path)\n",
    "    print(f\"Map saved to: {output_path}\")"
   ]
  },
  {
   "cell_type": "markdown",
   "id": "2786279e",
   "metadata": {},
   "source": [
    "# Load and Preprocess Data"
   ]
  },
  {
   "cell_type": "code",
   "execution_count": 11,
   "id": "559ae595",
   "metadata": {},
   "outputs": [
    {
     "data": {
      "text/html": [
       "<div>\n",
       "<style scoped>\n",
       "    .dataframe tbody tr th:only-of-type {\n",
       "        vertical-align: middle;\n",
       "    }\n",
       "\n",
       "    .dataframe tbody tr th {\n",
       "        vertical-align: top;\n",
       "    }\n",
       "\n",
       "    .dataframe thead th {\n",
       "        text-align: right;\n",
       "    }\n",
       "</style>\n",
       "<table border=\"1\" class=\"dataframe\">\n",
       "  <thead>\n",
       "    <tr style=\"text-align: right;\">\n",
       "      <th></th>\n",
       "      <th>자치구</th>\n",
       "      <th>설치 위치</th>\n",
       "      <th>latitude</th>\n",
       "      <th>longitude</th>\n",
       "    </tr>\n",
       "  </thead>\n",
       "  <tbody>\n",
       "    <tr>\n",
       "      <th>0</th>\n",
       "      <td>용산구</td>\n",
       "      <td>서울특별시 용산구 서울역 광장 15번출구</td>\n",
       "      <td>37.553149</td>\n",
       "      <td>126.968881</td>\n",
       "    </tr>\n",
       "    <tr>\n",
       "      <th>1</th>\n",
       "      <td>용산구</td>\n",
       "      <td>서울특별시 용산구 서울역 광장 1번출구</td>\n",
       "      <td>37.553760</td>\n",
       "      <td>126.969662</td>\n",
       "    </tr>\n",
       "    <tr>\n",
       "      <th>2</th>\n",
       "      <td>용산구</td>\n",
       "      <td>서울특별시 용산구 용산역 광장</td>\n",
       "      <td>37.528404</td>\n",
       "      <td>126.965569</td>\n",
       "    </tr>\n",
       "    <tr>\n",
       "      <th>3</th>\n",
       "      <td>용산구</td>\n",
       "      <td>서울특별시 용산구 용산구청 옥상</td>\n",
       "      <td>37.532709</td>\n",
       "      <td>126.990000</td>\n",
       "    </tr>\n",
       "    <tr>\n",
       "      <th>4</th>\n",
       "      <td>용산구</td>\n",
       "      <td>서울특별시 용산구 용산구청 2층 외부</td>\n",
       "      <td>37.532709</td>\n",
       "      <td>126.990000</td>\n",
       "    </tr>\n",
       "  </tbody>\n",
       "</table>\n",
       "</div>"
      ],
      "text/plain": [
       "   자치구                   설치 위치   latitude   longitude\n",
       "0  용산구  서울특별시 용산구 서울역 광장 15번출구  37.553149  126.968881\n",
       "1  용산구   서울특별시 용산구 서울역 광장 1번출구  37.553760  126.969662\n",
       "2  용산구        서울특별시 용산구 용산역 광장  37.528404  126.965569\n",
       "3  용산구       서울특별시 용산구 용산구청 옥상  37.532709  126.990000\n",
       "4  용산구    서울특별시 용산구 용산구청 2층 외부  37.532709  126.990000"
      ]
     },
     "execution_count": 11,
     "metadata": {},
     "output_type": "execute_result"
    }
   ],
   "source": [
    "df = pd.read_csv(INPUT_PATH, encoding='cp949')\n",
    "df = df.rename(columns={'위도': 'latitude', '경도': 'longitude'})\n",
    "df = df.dropna(subset=['latitude', 'longitude'])\n",
    "df['latitude'] = df['latitude'].astype(float)\n",
    "df['longitude'] = df['longitude'].astype(float)\n",
    "\n",
    "df = remove_outliers(df, DISTRICT_CENTERS)\n",
    "df.head()"
   ]
  },
  {
   "cell_type": "markdown",
   "id": "3685c88a",
   "metadata": {},
   "source": [
    "# Compute Average Distances"
   ]
  },
  {
   "cell_type": "code",
   "execution_count": 12,
   "id": "5023884d",
   "metadata": {},
   "outputs": [
    {
     "name": "stdout",
     "output_type": "stream",
     "text": [
      "영등포구: average nearest distance = 193.97 m\n",
      "용산구: average nearest distance = 138.87 m\n"
     ]
    },
    {
     "data": {
      "text/plain": [
       "{'영등포구': 193.96671263075797, '용산구': 138.87295498149152}"
      ]
     },
     "execution_count": 12,
     "metadata": {},
     "output_type": "execute_result"
    }
   ],
   "source": [
    "avg_dists = compute_avg_nearest_distances(df)\n",
    "avg_dists"
   ]
  },
  {
   "cell_type": "markdown",
   "id": "d34ee446",
   "metadata": {},
   "source": [
    "# Generate Map"
   ]
  },
  {
   "cell_type": "code",
   "execution_count": 13,
   "id": "655984ce",
   "metadata": {},
   "outputs": [
    {
     "name": "stdout",
     "output_type": "stream",
     "text": [
      "Map saved to: ./Output/merged_smoking_zones_map.html\n"
     ]
    }
   ],
   "source": [
    "plot_folium_map(df, DISTRICT_COLORS, OUTPUT_PATH)"
   ]
  }
 ],
 "metadata": {
  "kernelspec": {
   "display_name": "Python (ml_env)",
   "language": "python",
   "name": "ml_env"
  },
  "language_info": {
   "codemirror_mode": {
    "name": "ipython",
    "version": 3
   },
   "file_extension": ".py",
   "mimetype": "text/x-python",
   "name": "python",
   "nbconvert_exporter": "python",
   "pygments_lexer": "ipython3",
   "version": "3.10.16"
  }
 },
 "nbformat": 4,
 "nbformat_minor": 5
}
