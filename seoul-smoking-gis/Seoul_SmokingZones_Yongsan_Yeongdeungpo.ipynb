{
 "cells": [
  {
   "cell_type": "markdown",
   "id": "929f9003",
   "metadata": {},
   "source": [
    "## 1. Load & Preprocess Data: Geocoding and Distance Analysis\n"
   ]
  },
  {
   "cell_type": "code",
   "execution_count": 8,
   "id": "529693f3",
   "metadata": {},
   "outputs": [
    {
     "name": "stdout",
     "output_type": "stream",
     "text": [
      "✅ 영등포구: Average nearest distance = 193.97 meters\n",
      "✅ 용산구: Average nearest distance = 138.87 meters\n"
     ]
    }
   ],
   "source": [
    "# ============================================================\n",
    "# 1. Load and preprocess smoking zone data (Yongsan + Yeongdeungpo)\n",
    "#    - Removes distant outliers (5km+ from district center)\n",
    "#    - Computes average nearest distance *within each district*\n",
    "# ============================================================\n",
    "\n",
    "import pandas as pd\n",
    "from geopy.distance import geodesic\n",
    "import os\n",
    "\n",
    "# File paths\n",
    "file_path = r\"C:\\Users\\ghwns\\HJ_git\\Misc-Projects\\seoul-smoking-gis\\Data\\서울특별시_용산구_영등포구_흡연구역.csv\"\n",
    "output_path = r\"C:\\Users\\ghwns\\HJ_git\\Misc-Projects\\seoul-smoking-gis\\Output\\merged_smoking_zones_map.html\"\n",
    "\n",
    "# Ensure output directory exists\n",
    "os.makedirs(os.path.dirname(output_path), exist_ok=True)\n",
    "\n",
    "# Load dataset\n",
    "df = pd.read_csv(file_path, encoding='cp949')\n",
    "df = df.rename(columns={'위도': 'latitude', '경도': 'longitude'})\n",
    "df = df.dropna(subset=['latitude', 'longitude'])\n",
    "df['latitude'] = df['latitude'].astype(float)\n",
    "df['longitude'] = df['longitude'].astype(float)\n",
    "\n",
    "# ------------------------------------------------------------\n",
    "# Remove geographic outliers (5km+ from district center)\n",
    "# ------------------------------------------------------------\n",
    "district_centers = {\n",
    "    '용산구': (37.5325, 126.9900),\n",
    "    '영등포구': (37.5219, 126.9244),\n",
    "}\n",
    "\n",
    "def is_outlier(row):\n",
    "    gu = row['자치구']\n",
    "    center = district_centers.get(gu)\n",
    "    if not center:\n",
    "        return False\n",
    "    d = geodesic((row['latitude'], row['longitude']), center).meters\n",
    "    return d > 5000\n",
    "\n",
    "df['is_outlier'] = df.apply(is_outlier, axis=1)\n",
    "df = df[~df['is_outlier']].drop(columns='is_outlier')\n",
    "\n",
    "# ------------------------------------------------------------\n",
    "# Compute average nearest distance *within each district*\n",
    "# ------------------------------------------------------------\n",
    "gu_avg_nearest = {}\n",
    "\n",
    "for gu, group in df.groupby(\"자치구\"):\n",
    "    coords = group[['latitude', 'longitude']].values\n",
    "    nearest_dists = []\n",
    "\n",
    "    if len(coords) < 2:\n",
    "        gu_avg_nearest[gu] = None\n",
    "        print(f\"⚠️ {gu}: Not enough data (less than 2 points)\")\n",
    "        continue\n",
    "\n",
    "    for i in range(len(coords)):\n",
    "        dists = []\n",
    "        for j in range(len(coords)):\n",
    "            if i == j:\n",
    "                continue\n",
    "            d = geodesic(coords[i], coords[j]).meters\n",
    "            dists.append(d)\n",
    "        nearest_dists.append(min(dists))\n",
    "\n",
    "    avg_nearest = sum(nearest_dists) / len(nearest_dists)\n",
    "    gu_avg_nearest[gu] = avg_nearest\n",
    "    print(f\"✅ {gu}: Average nearest distance = {avg_nearest:.2f} meters\")"
   ]
  },
  {
   "cell_type": "markdown",
   "id": "ed8f4449",
   "metadata": {},
   "source": [
    "## 2. Visualize Smoking Zones on Interactive Map & Save as HTML\n"
   ]
  },
  {
   "cell_type": "code",
   "execution_count": 10,
   "id": "ed7fcf4f",
   "metadata": {},
   "outputs": [
    {
     "name": "stdout",
     "output_type": "stream",
     "text": [
      "✅ Map saved to: C:\\Users\\ghwns\\HJ_git\\Misc-Projects\\seoul-smoking-gis\\Output\\merged_smoking_zones_map.html\n"
     ]
    },
    {
     "data": {
      "text/plain": [
       "True"
      ]
     },
     "execution_count": 10,
     "metadata": {},
     "output_type": "execute_result"
    }
   ],
   "source": [
    "# ============================================================\n",
    "# 2. Visualize merged smoking zones with Folium\n",
    "#    - Color-coded by district\n",
    "#    - Tooltip appears on hover\n",
    "# ============================================================\n",
    "\n",
    "import folium\n",
    "import webbrowser\n",
    "\n",
    "# Map center\n",
    "map_center = [df['latitude'].mean(), df['longitude'].mean()]\n",
    "m = folium.Map(location=map_center, zoom_start=13)\n",
    "\n",
    "# Color by district\n",
    "color_map = {\n",
    "    '용산구': 'green',\n",
    "    '영등포구': 'blue',\n",
    "}\n",
    "\n",
    "# Add markers with tooltip\n",
    "for _, row in df.iterrows():\n",
    "    gu = row.get('자치구', '')\n",
    "    name = row.get('설치 위치', 'Smoking Zone')\n",
    "    lat = row['latitude']\n",
    "    lon = row['longitude']\n",
    "    color = color_map.get(gu, 'gray')\n",
    "\n",
    "    folium.Marker(\n",
    "        location=[lat, lon],\n",
    "        popup=f\"{gu} - {name}\",\n",
    "        tooltip=name,  # 👈 Hover tooltip here!\n",
    "        icon=folium.Icon(color=color, icon='smoking', prefix='fa')\n",
    "    ).add_to(m)\n",
    "\n",
    "# Save and open\n",
    "m.save(output_path)\n",
    "print(f\"✅ Map saved to: {output_path}\")\n",
    "webbrowser.open(output_path)"
   ]
  }
 ],
 "metadata": {
  "kernelspec": {
   "display_name": "Python 3 (ipykernel)",
   "language": "python",
   "name": "python3"
  },
  "language_info": {
   "codemirror_mode": {
    "name": "ipython",
    "version": 3
   },
   "file_extension": ".py",
   "mimetype": "text/x-python",
   "name": "python",
   "nbconvert_exporter": "python",
   "pygments_lexer": "ipython3",
   "version": "3.11.4"
  }
 },
 "nbformat": 4,
 "nbformat_minor": 5
}
