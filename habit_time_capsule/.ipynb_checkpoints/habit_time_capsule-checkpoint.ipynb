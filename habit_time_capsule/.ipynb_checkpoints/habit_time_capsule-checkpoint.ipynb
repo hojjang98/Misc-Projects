{
 "cells": [
  {
   "cell_type": "markdown",
   "id": "8c5057e0",
   "metadata": {},
   "source": [
    "# Import Libraries & Initialize Database"
   ]
  },
  {
   "cell_type": "code",
   "execution_count": null,
   "id": "be7f4354",
   "metadata": {},
   "outputs": [],
   "source": [
    "import streamlit as st\n",
    "import sqlite3\n",
    "import pandas as pd\n",
    "import datetime\n",
    "import matplotlib.pyplot as plt\n",
    "\n",
    "# Initialize DB\n",
    "def init_db():\n",
    "    conn = sqlite3.connect(\"habits.db\")\n",
    "    cur = conn.cursor()\n",
    "    cur.execute(\"\"\"\n",
    "    CREATE TABLE IF NOT EXISTS habits (\n",
    "        id INTEGER PRIMARY KEY AUTOINCREMENT,\n",
    "        habit TEXT NOT NULL,\n",
    "        value INTEGER,\n",
    "        date TEXT NOT NULL\n",
    "    )\n",
    "    \"\"\")\n",
    "    conn.commit()\n",
    "    conn.close()\n",
    "\n",
    "init_db()  "
   ]
  },
  {
   "cell_type": "markdown",
   "id": "39688816",
   "metadata": {},
   "source": [
    "# Log Habit & Load Data Functions"
   ]
  },
  {
   "cell_type": "code",
   "execution_count": null,
   "id": "076673b6",
   "metadata": {},
   "outputs": [],
   "source": [
    "# insert new habit record\n",
    "def log_habit(habit: str, value: int, date: str = None):\n",
    "    if date is None:\n",
    "        date = datetime.date.today().isoformat()\n",
    "    conn = sqlite3.connect(\"habits.db\")\n",
    "    cur = conn.cursor()\n",
    "    cur.execute(\"INSERT INTO habits (habit, value, date) VALUES (?, ?, ?)\",\n",
    "                (habit, value, date))\n",
    "    conn.commit()\n",
    "    conn.close()\n",
    "\n",
    "# load all habit records\n",
    "def load_data():\n",
    "    conn = sqlite3.connect(\"habits.db\")\n",
    "    df = pd.read_sql(\"SELECT * FROM habits\", conn)\n",
    "    conn.close()\n",
    "    return df"
   ]
  },
  {
   "cell_type": "markdown",
   "id": "495f1abd",
   "metadata": {},
   "source": [
    "# Streamlit UI - Habit Logging"
   ]
  },
  {
   "cell_type": "code",
   "execution_count": null,
   "id": "d3b44c27",
   "metadata": {},
   "outputs": [],
   "source": [
    "st.title(\"🧠 Habit Time Capsule\")\n",
    "\n",
    "st.header(\"Log a Habit\")\n",
    "with st.form(\"habit_form\"):\n",
    "    habit = st.text_input(\"Habit name\", \"\")\n",
    "    value = st.number_input(\"Value\", min_value=0, step=1)\n",
    "    date = st.date_input(\"Date\", datetime.date.today())\n",
    "    submitted = st.form_submit_button(\"Save\")\n",
    "\n",
    "    if submitted and habit:\n",
    "        log_habit(habit, int(value), date.isoformat())\n",
    "        st.success(f\"Saved: {habit} - {value} on {date}\")"
   ]
  },
  {
   "cell_type": "markdown",
   "id": "6cad2523",
   "metadata": {},
   "source": [
    "# View Logged Habits"
   ]
  },
  {
   "cell_type": "code",
   "execution_count": null,
   "id": "7f06076b",
   "metadata": {},
   "outputs": [],
   "source": [
    "st.header(\"Habit Records\")\n",
    "\n",
    "df = load_data()\n",
    "\n",
    "if not df.empty:\n",
    "    st.dataframe(df)\n",
    "else:\n",
    "    st.info(\"No habit records yet. Add one above!\")"
   ]
  },
  {
   "cell_type": "markdown",
   "id": "7d8da33c",
   "metadata": {},
   "source": [
    "# Trend Visualization"
   ]
  },
  {
   "cell_type": "code",
   "execution_count": null,
   "id": "34402e90",
   "metadata": {},
   "outputs": [],
   "source": [
    "st.header(\"Habit Trends\")\n",
    "\n",
    "if not df.empty:\n",
    "    df[\"date\"] = pd.to_datetime(df[\"date\"])\n",
    "    daily_trends = df.groupby([\"date\", \"habit\"])[\"value\"].sum().reset_index()\n",
    "\n",
    "    fig, ax = plt.subplots(figsize=(10, 5))\n",
    "    for habit_name in daily_trends[\"habit\"].unique():\n",
    "        subset = daily_trends[daily_trends[\"habit\"] == habit_name]\n",
    "        ax.plot(subset[\"date\"], subset[\"value\"], marker=\"o\", label=habit_name)\n",
    "\n",
    "    ax.set_xlabel(\"Date\")\n",
    "    ax.set_ylabel(\"Value\")\n",
    "    ax.set_title(\"Habit Trends Over Time\")\n",
    "    ax.legend()\n",
    "    st.pyplot(fig)\n",
    "else:\n",
    "    st.info(\"No data to visualize yet.\")"
   ]
  },
  {
   "cell_type": "markdown",
   "id": "abac8f79",
   "metadata": {},
   "source": [
    "# Simple Forecasting"
   ]
  },
  {
   "cell_type": "code",
   "execution_count": null,
   "id": "a6b94284",
   "metadata": {},
   "outputs": [],
   "source": [
    "st.header(\"Forecast Example\")\n",
    "\n",
    "if not df.empty:\n",
    "    habit_choice = st.selectbox(\"Choose a habit to forecast\", df[\"habit\"].unique())\n",
    "    subset = df[df[\"habit\"] == habit_choice].copy().sort_values(\"date\")\n",
    "    subset[\"date\"] = pd.to_datetime(subset[\"date\"])\n",
    "\n",
    "    # 3-day moving average\n",
    "    subset[\"ma\"] = subset[\"value\"].rolling(window=3, min_periods=1).mean()\n",
    "\n",
    "    # future 7 days (naive forecast = last moving average continues)\n",
    "    last_date = subset[\"date\"].max()\n",
    "    future_dates = [last_date + datetime.timedelta(days=i) for i in range(1, 8)]\n",
    "    last_ma = subset[\"ma\"].iloc[-1]\n",
    "    future_values = [last_ma] * len(future_dates)\n",
    "\n",
    "    forecast_df = pd.DataFrame({\"date\": future_dates, \"forecast\": future_values})\n",
    "\n",
    "    # plot actual + moving average + forecast\n",
    "    fig, ax = plt.subplots(figsize=(10, 5))\n",
    "    ax.plot(subset[\"date\"], subset[\"value\"], marker=\"o\", label=\"Actual\")\n",
    "    ax.plot(subset[\"date\"], subset[\"ma\"], linestyle=\"--\", label=\"Moving Avg\")\n",
    "    ax.plot(forecast_df[\"date\"], forecast_df[\"forecast\"], linestyle=\":\", marker=\"x\", label=\"Forecast\")\n",
    "\n",
    "    ax.set_title(f\"{habit_choice} Forecast (Next 7 Days)\")\n",
    "    ax.set_xlabel(\"Date\")\n",
    "    ax.set_ylabel(\"Value\")\n",
    "    ax.legend()\n",
    "    st.pyplot(fig)\n",
    "else:\n",
    "    st.info(\"No data available for forecasting.\")"
   ]
  },
  {
   "cell_type": "markdown",
   "id": "7307d1e8",
   "metadata": {},
   "source": [
    "# Time Capsule"
   ]
  },
  {
   "cell_type": "code",
   "execution_count": null,
   "id": "aa27adb5",
   "metadata": {},
   "outputs": [],
   "source": [
    "st.header(\"Time Capsule\")\n",
    "\n",
    "capsule_message = st.text_area(\"Write a message to your future self\")\n",
    "unlock_date = st.date_input(\"Unlock date\", datetime.date.today())\n",
    "\n",
    "if st.button(\"Save Capsule\"):\n",
    "    with open(\"reports/time_capsule.txt\", \"a\", encoding=\"utf-8\") as f:\n",
    "        f.write(f\"{unlock_date}: {capsule_message}\\n\")\n",
    "    st.success(\"Time capsule saved! (check reports/time_capsule.txt)\")"
   ]
  }
 ],
 "metadata": {
  "kernelspec": {
   "display_name": "Python 3 (ipykernel)",
   "language": "python",
   "name": "python3"
  },
  "language_info": {
   "codemirror_mode": {
    "name": "ipython",
    "version": 3
   },
   "file_extension": ".py",
   "mimetype": "text/x-python",
   "name": "python",
   "nbconvert_exporter": "python",
   "pygments_lexer": "ipython3",
   "version": "3.11.4"
  }
 },
 "nbformat": 4,
 "nbformat_minor": 5
}
